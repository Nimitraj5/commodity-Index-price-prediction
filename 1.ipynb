{
 "cells": [
  {
   "cell_type": "code",
   "execution_count": 1,
   "id": "initial_id",
   "metadata": {
    "collapsed": true,
    "ExecuteTime": {
     "end_time": "2024-09-25T02:55:39.886856Z",
     "start_time": "2024-09-25T02:55:39.252338Z"
    }
   },
   "outputs": [],
   "source": [
    "import numpy as np\n",
    "import pandas as pd\n"
   ]
  },
  {
   "cell_type": "code",
   "outputs": [
    {
     "data": {
      "text/plain": "         COMM_NAME   COMM_CODE    COMM_WT  INDX042012  INDX052012  INDX062012  \\\n0  All commodities  1000000000  100.00000       104.7       105.3       105.3   \n1            Wheat  1101010102    1.02823       104.6       105.4       104.4   \n2             Ragi  1101010107    0.00738       107.2       110.3       108.9   \n3       a2. PULSES  1101010200    0.63860       105.4       111.4       114.0   \n4             Gram  1101010201    0.26377       116.1       127.5       130.7   \n\n   INDX072012  INDX082012  INDX092012  INDX102012  ...  INDX012023  \\\n0       106.2       106.9       107.6       107.4  ...       150.7   \n1       105.8       116.0       119.4       117.4  ...       203.9   \n2       115.6       126.4       134.1       149.5  ...       221.6   \n3       123.4       128.8       129.3       127.2  ...       178.1   \n4       143.7       149.9       148.9       145.5  ...       164.8   \n\n   INDX022023  INDX032023  INDX042023  INDX052023  INDX062023  INDX072023  \\\n0       150.9       151.0       151.1       149.4       148.9       152.1   \n1       196.8       187.1       186.4       184.9       187.3       187.1   \n2       222.0       224.3       233.8       237.0       237.1       245.4   \n3       178.0       180.4       184.6       183.6       188.5       191.9   \n4       165.6       167.4       169.4       167.0       166.5       166.2   \n\n   INDX082023  INDX092023  INDX102023  \n0       152.5       151.8       152.5  \n1       188.3       190.7       194.0  \n2       256.6       259.0       263.1  \n3       197.6       210.2       214.6  \n4       174.2       187.2       192.2  \n\n[5 rows x 142 columns]",
      "text/html": "<div>\n<style scoped>\n    .dataframe tbody tr th:only-of-type {\n        vertical-align: middle;\n    }\n\n    .dataframe tbody tr th {\n        vertical-align: top;\n    }\n\n    .dataframe thead th {\n        text-align: right;\n    }\n</style>\n<table border=\"1\" class=\"dataframe\">\n  <thead>\n    <tr style=\"text-align: right;\">\n      <th></th>\n      <th>COMM_NAME</th>\n      <th>COMM_CODE</th>\n      <th>COMM_WT</th>\n      <th>INDX042012</th>\n      <th>INDX052012</th>\n      <th>INDX062012</th>\n      <th>INDX072012</th>\n      <th>INDX082012</th>\n      <th>INDX092012</th>\n      <th>INDX102012</th>\n      <th>...</th>\n      <th>INDX012023</th>\n      <th>INDX022023</th>\n      <th>INDX032023</th>\n      <th>INDX042023</th>\n      <th>INDX052023</th>\n      <th>INDX062023</th>\n      <th>INDX072023</th>\n      <th>INDX082023</th>\n      <th>INDX092023</th>\n      <th>INDX102023</th>\n    </tr>\n  </thead>\n  <tbody>\n    <tr>\n      <th>0</th>\n      <td>All commodities</td>\n      <td>1000000000</td>\n      <td>100.00000</td>\n      <td>104.7</td>\n      <td>105.3</td>\n      <td>105.3</td>\n      <td>106.2</td>\n      <td>106.9</td>\n      <td>107.6</td>\n      <td>107.4</td>\n      <td>...</td>\n      <td>150.7</td>\n      <td>150.9</td>\n      <td>151.0</td>\n      <td>151.1</td>\n      <td>149.4</td>\n      <td>148.9</td>\n      <td>152.1</td>\n      <td>152.5</td>\n      <td>151.8</td>\n      <td>152.5</td>\n    </tr>\n    <tr>\n      <th>1</th>\n      <td>Wheat</td>\n      <td>1101010102</td>\n      <td>1.02823</td>\n      <td>104.6</td>\n      <td>105.4</td>\n      <td>104.4</td>\n      <td>105.8</td>\n      <td>116.0</td>\n      <td>119.4</td>\n      <td>117.4</td>\n      <td>...</td>\n      <td>203.9</td>\n      <td>196.8</td>\n      <td>187.1</td>\n      <td>186.4</td>\n      <td>184.9</td>\n      <td>187.3</td>\n      <td>187.1</td>\n      <td>188.3</td>\n      <td>190.7</td>\n      <td>194.0</td>\n    </tr>\n    <tr>\n      <th>2</th>\n      <td>Ragi</td>\n      <td>1101010107</td>\n      <td>0.00738</td>\n      <td>107.2</td>\n      <td>110.3</td>\n      <td>108.9</td>\n      <td>115.6</td>\n      <td>126.4</td>\n      <td>134.1</td>\n      <td>149.5</td>\n      <td>...</td>\n      <td>221.6</td>\n      <td>222.0</td>\n      <td>224.3</td>\n      <td>233.8</td>\n      <td>237.0</td>\n      <td>237.1</td>\n      <td>245.4</td>\n      <td>256.6</td>\n      <td>259.0</td>\n      <td>263.1</td>\n    </tr>\n    <tr>\n      <th>3</th>\n      <td>a2. PULSES</td>\n      <td>1101010200</td>\n      <td>0.63860</td>\n      <td>105.4</td>\n      <td>111.4</td>\n      <td>114.0</td>\n      <td>123.4</td>\n      <td>128.8</td>\n      <td>129.3</td>\n      <td>127.2</td>\n      <td>...</td>\n      <td>178.1</td>\n      <td>178.0</td>\n      <td>180.4</td>\n      <td>184.6</td>\n      <td>183.6</td>\n      <td>188.5</td>\n      <td>191.9</td>\n      <td>197.6</td>\n      <td>210.2</td>\n      <td>214.6</td>\n    </tr>\n    <tr>\n      <th>4</th>\n      <td>Gram</td>\n      <td>1101010201</td>\n      <td>0.26377</td>\n      <td>116.1</td>\n      <td>127.5</td>\n      <td>130.7</td>\n      <td>143.7</td>\n      <td>149.9</td>\n      <td>148.9</td>\n      <td>145.5</td>\n      <td>...</td>\n      <td>164.8</td>\n      <td>165.6</td>\n      <td>167.4</td>\n      <td>169.4</td>\n      <td>167.0</td>\n      <td>166.5</td>\n      <td>166.2</td>\n      <td>174.2</td>\n      <td>187.2</td>\n      <td>192.2</td>\n    </tr>\n  </tbody>\n</table>\n<p>5 rows × 142 columns</p>\n</div>"
     },
     "execution_count": 2,
     "metadata": {},
     "output_type": "execute_result"
    }
   ],
   "source": [
    "df=pd.read_csv('239ac3d0-f08d-40d0-b03c-9b7a426a62d5.csv')\n",
    "df.head()"
   ],
   "metadata": {
    "collapsed": false,
    "ExecuteTime": {
     "end_time": "2024-09-25T02:55:39.979435Z",
     "start_time": "2024-09-25T02:55:39.892698Z"
    }
   },
   "id": "6729a87c4b5f8270",
   "execution_count": 2
  },
  {
   "cell_type": "code",
   "outputs": [],
   "source": [
    "def calculate_quarterly(df, start_year, end_year):\n",
    "\n",
    "    df_quarterly = df.copy()\n",
    "\n",
    "\n",
    "    for year in range(start_year, end_year + 1):\n",
    "        q1_cols = [f'INDX01{year}', f'INDX02{year}', f'INDX03{year}']\n",
    "        q2_cols = [f'INDX04{year}', f'INDX05{year}', f'INDX06{year}']\n",
    "        q3_cols = [f'INDX07{year}', f'INDX08{year}', f'INDX09{year}']\n",
    "        q4_cols = [f'INDX10{year}', f'INDX11{year}', f'INDX12{year}']\n",
    "\n",
    "        df_quarterly[f'Q1_{year}'] = df[q1_cols].mean(axis=1)\n",
    "        df_quarterly[f'Q2_{year}'] = df[q2_cols].mean(axis=1)\n",
    "        df_quarterly[f'Q3_{year}'] = df[q3_cols].mean(axis=1)\n",
    "        df_quarterly[f'Q4_{year}'] = df[q4_cols].mean(axis=1)\n",
    "        df_quarterly.drop(columns=q1_cols + q2_cols + q3_cols + q4_cols, inplace=True)\n",
    "\n",
    "    return df_quarterly\n",
    "\n",
    "df_quarterly = calculate_quarterly(df, start_year=2013, end_year=2022)\n"
   ],
   "metadata": {
    "collapsed": false,
    "ExecuteTime": {
     "end_time": "2024-09-25T02:55:40.070957Z",
     "start_time": "2024-09-25T02:55:39.980560Z"
    }
   },
   "id": "b6117ba9f13941b6",
   "execution_count": 3
  },
  {
   "cell_type": "code",
   "outputs": [
    {
     "data": {
      "text/plain": "                                             COMM_NAME   COMM_CODE    COMM_WT  \\\n0                                      All commodities  1000000000  100.00000   \n1                                                Wheat  1101010102    1.02823   \n2                                                 Ragi  1101010107    0.00738   \n3                                           a2. PULSES  1101010200    0.63860   \n4                                                 Gram  1101010201    0.26377   \n..                                                 ...         ...        ...   \n864                              Gold & gold ornaments  1322010001    0.96561   \n865  Stringed musical instruments (incl. Santoor, G...  1322020001    0.00124   \n866                     c. Manufacture of sports goods  1322030000    0.01238   \n867               Sports goods of rubber (incl. balls)  1322030001    0.00367   \n868                                      IV FOOD INDEX  2000000000        NaN   \n\n     INDX042012  INDX052012  INDX062012  INDX072012  INDX082012  INDX092012  \\\n0         104.7       105.3       105.3       106.2       106.9       107.6   \n1         104.6       105.4       104.4       105.8       116.0       119.4   \n2         107.2       110.3       108.9       115.6       126.4       134.1   \n3         105.4       111.4       114.0       123.4       128.8       129.3   \n4         116.1       127.5       130.7       143.7       149.9       148.9   \n..          ...         ...         ...         ...         ...         ...   \n864        91.2        88.2        85.2        91.9        87.9       102.3   \n865       108.8       101.6       107.5       117.4       103.0       112.2   \n866       106.0       106.8       106.4       106.2       105.0       106.9   \n867       105.2       109.2       106.6       105.5       105.2       105.0   \n868       105.9       106.5       108.4       110.4       111.1       111.4   \n\n     INDX102012  ...     Q3_2020     Q4_2020     Q1_2021     Q2_2021  \\\n0         107.4  ...  121.966667  124.700000  128.166667  132.866667   \n1         117.4  ...  153.833333  147.533333  149.666667  156.400000   \n2         149.5  ...  229.900000  227.466667  228.333333  233.566667   \n3         127.2  ...  160.766667  170.300000  168.833333  177.300000   \n4         145.5  ...  147.966667  162.566667  157.166667  168.700000   \n..          ...  ...         ...         ...         ...         ...   \n864       106.5  ...  136.066667  134.566667  133.766667  135.933333   \n865       100.0  ...  167.366667  166.966667  185.700000  197.533333   \n866       106.9  ...  131.000000  131.866667  134.200000  136.466667   \n867       106.8  ...  115.666667  116.233333  118.866667  120.633333   \n868       110.5  ...  154.933333  158.100000  153.033333  158.766667   \n\n        Q3_2021     Q4_2021     Q1_2022     Q2_2022     Q3_2022     Q4_2022  \n0    136.200000  142.566667  146.000000  154.233333  153.033333  151.966667  \n1    154.433333  162.133333  167.366667  173.066667  178.666667  191.966667  \n2    230.333333  228.666667  234.166667  230.133333  211.000000  209.633333  \n3    175.333333  176.966667  174.200000  173.600000  177.400000  178.533333  \n4    168.400000  168.566667  164.900000  162.700000  164.066667  162.033333  \n..          ...         ...         ...         ...         ...         ...  \n864  133.566667  135.833333  140.866667  142.833333  145.800000  148.233333  \n865  191.966667  192.933333  186.933333  182.200000  188.666667  190.366667  \n866  138.533333  141.900000  144.666667  147.300000  150.033333  151.866667  \n867  125.633333  127.333333  128.600000  132.166667  132.366667  134.100000  \n868  160.533333  168.833333  167.066667  175.433333  175.166667  174.433333  \n\n[869 rows x 62 columns]",
      "text/html": "<div>\n<style scoped>\n    .dataframe tbody tr th:only-of-type {\n        vertical-align: middle;\n    }\n\n    .dataframe tbody tr th {\n        vertical-align: top;\n    }\n\n    .dataframe thead th {\n        text-align: right;\n    }\n</style>\n<table border=\"1\" class=\"dataframe\">\n  <thead>\n    <tr style=\"text-align: right;\">\n      <th></th>\n      <th>COMM_NAME</th>\n      <th>COMM_CODE</th>\n      <th>COMM_WT</th>\n      <th>INDX042012</th>\n      <th>INDX052012</th>\n      <th>INDX062012</th>\n      <th>INDX072012</th>\n      <th>INDX082012</th>\n      <th>INDX092012</th>\n      <th>INDX102012</th>\n      <th>...</th>\n      <th>Q3_2020</th>\n      <th>Q4_2020</th>\n      <th>Q1_2021</th>\n      <th>Q2_2021</th>\n      <th>Q3_2021</th>\n      <th>Q4_2021</th>\n      <th>Q1_2022</th>\n      <th>Q2_2022</th>\n      <th>Q3_2022</th>\n      <th>Q4_2022</th>\n    </tr>\n  </thead>\n  <tbody>\n    <tr>\n      <th>0</th>\n      <td>All commodities</td>\n      <td>1000000000</td>\n      <td>100.00000</td>\n      <td>104.7</td>\n      <td>105.3</td>\n      <td>105.3</td>\n      <td>106.2</td>\n      <td>106.9</td>\n      <td>107.6</td>\n      <td>107.4</td>\n      <td>...</td>\n      <td>121.966667</td>\n      <td>124.700000</td>\n      <td>128.166667</td>\n      <td>132.866667</td>\n      <td>136.200000</td>\n      <td>142.566667</td>\n      <td>146.000000</td>\n      <td>154.233333</td>\n      <td>153.033333</td>\n      <td>151.966667</td>\n    </tr>\n    <tr>\n      <th>1</th>\n      <td>Wheat</td>\n      <td>1101010102</td>\n      <td>1.02823</td>\n      <td>104.6</td>\n      <td>105.4</td>\n      <td>104.4</td>\n      <td>105.8</td>\n      <td>116.0</td>\n      <td>119.4</td>\n      <td>117.4</td>\n      <td>...</td>\n      <td>153.833333</td>\n      <td>147.533333</td>\n      <td>149.666667</td>\n      <td>156.400000</td>\n      <td>154.433333</td>\n      <td>162.133333</td>\n      <td>167.366667</td>\n      <td>173.066667</td>\n      <td>178.666667</td>\n      <td>191.966667</td>\n    </tr>\n    <tr>\n      <th>2</th>\n      <td>Ragi</td>\n      <td>1101010107</td>\n      <td>0.00738</td>\n      <td>107.2</td>\n      <td>110.3</td>\n      <td>108.9</td>\n      <td>115.6</td>\n      <td>126.4</td>\n      <td>134.1</td>\n      <td>149.5</td>\n      <td>...</td>\n      <td>229.900000</td>\n      <td>227.466667</td>\n      <td>228.333333</td>\n      <td>233.566667</td>\n      <td>230.333333</td>\n      <td>228.666667</td>\n      <td>234.166667</td>\n      <td>230.133333</td>\n      <td>211.000000</td>\n      <td>209.633333</td>\n    </tr>\n    <tr>\n      <th>3</th>\n      <td>a2. PULSES</td>\n      <td>1101010200</td>\n      <td>0.63860</td>\n      <td>105.4</td>\n      <td>111.4</td>\n      <td>114.0</td>\n      <td>123.4</td>\n      <td>128.8</td>\n      <td>129.3</td>\n      <td>127.2</td>\n      <td>...</td>\n      <td>160.766667</td>\n      <td>170.300000</td>\n      <td>168.833333</td>\n      <td>177.300000</td>\n      <td>175.333333</td>\n      <td>176.966667</td>\n      <td>174.200000</td>\n      <td>173.600000</td>\n      <td>177.400000</td>\n      <td>178.533333</td>\n    </tr>\n    <tr>\n      <th>4</th>\n      <td>Gram</td>\n      <td>1101010201</td>\n      <td>0.26377</td>\n      <td>116.1</td>\n      <td>127.5</td>\n      <td>130.7</td>\n      <td>143.7</td>\n      <td>149.9</td>\n      <td>148.9</td>\n      <td>145.5</td>\n      <td>...</td>\n      <td>147.966667</td>\n      <td>162.566667</td>\n      <td>157.166667</td>\n      <td>168.700000</td>\n      <td>168.400000</td>\n      <td>168.566667</td>\n      <td>164.900000</td>\n      <td>162.700000</td>\n      <td>164.066667</td>\n      <td>162.033333</td>\n    </tr>\n    <tr>\n      <th>...</th>\n      <td>...</td>\n      <td>...</td>\n      <td>...</td>\n      <td>...</td>\n      <td>...</td>\n      <td>...</td>\n      <td>...</td>\n      <td>...</td>\n      <td>...</td>\n      <td>...</td>\n      <td>...</td>\n      <td>...</td>\n      <td>...</td>\n      <td>...</td>\n      <td>...</td>\n      <td>...</td>\n      <td>...</td>\n      <td>...</td>\n      <td>...</td>\n      <td>...</td>\n      <td>...</td>\n    </tr>\n    <tr>\n      <th>864</th>\n      <td>Gold &amp; gold ornaments</td>\n      <td>1322010001</td>\n      <td>0.96561</td>\n      <td>91.2</td>\n      <td>88.2</td>\n      <td>85.2</td>\n      <td>91.9</td>\n      <td>87.9</td>\n      <td>102.3</td>\n      <td>106.5</td>\n      <td>...</td>\n      <td>136.066667</td>\n      <td>134.566667</td>\n      <td>133.766667</td>\n      <td>135.933333</td>\n      <td>133.566667</td>\n      <td>135.833333</td>\n      <td>140.866667</td>\n      <td>142.833333</td>\n      <td>145.800000</td>\n      <td>148.233333</td>\n    </tr>\n    <tr>\n      <th>865</th>\n      <td>Stringed musical instruments (incl. Santoor, G...</td>\n      <td>1322020001</td>\n      <td>0.00124</td>\n      <td>108.8</td>\n      <td>101.6</td>\n      <td>107.5</td>\n      <td>117.4</td>\n      <td>103.0</td>\n      <td>112.2</td>\n      <td>100.0</td>\n      <td>...</td>\n      <td>167.366667</td>\n      <td>166.966667</td>\n      <td>185.700000</td>\n      <td>197.533333</td>\n      <td>191.966667</td>\n      <td>192.933333</td>\n      <td>186.933333</td>\n      <td>182.200000</td>\n      <td>188.666667</td>\n      <td>190.366667</td>\n    </tr>\n    <tr>\n      <th>866</th>\n      <td>c. Manufacture of sports goods</td>\n      <td>1322030000</td>\n      <td>0.01238</td>\n      <td>106.0</td>\n      <td>106.8</td>\n      <td>106.4</td>\n      <td>106.2</td>\n      <td>105.0</td>\n      <td>106.9</td>\n      <td>106.9</td>\n      <td>...</td>\n      <td>131.000000</td>\n      <td>131.866667</td>\n      <td>134.200000</td>\n      <td>136.466667</td>\n      <td>138.533333</td>\n      <td>141.900000</td>\n      <td>144.666667</td>\n      <td>147.300000</td>\n      <td>150.033333</td>\n      <td>151.866667</td>\n    </tr>\n    <tr>\n      <th>867</th>\n      <td>Sports goods of rubber (incl. balls)</td>\n      <td>1322030001</td>\n      <td>0.00367</td>\n      <td>105.2</td>\n      <td>109.2</td>\n      <td>106.6</td>\n      <td>105.5</td>\n      <td>105.2</td>\n      <td>105.0</td>\n      <td>106.8</td>\n      <td>...</td>\n      <td>115.666667</td>\n      <td>116.233333</td>\n      <td>118.866667</td>\n      <td>120.633333</td>\n      <td>125.633333</td>\n      <td>127.333333</td>\n      <td>128.600000</td>\n      <td>132.166667</td>\n      <td>132.366667</td>\n      <td>134.100000</td>\n    </tr>\n    <tr>\n      <th>868</th>\n      <td>IV FOOD INDEX</td>\n      <td>2000000000</td>\n      <td>NaN</td>\n      <td>105.9</td>\n      <td>106.5</td>\n      <td>108.4</td>\n      <td>110.4</td>\n      <td>111.1</td>\n      <td>111.4</td>\n      <td>110.5</td>\n      <td>...</td>\n      <td>154.933333</td>\n      <td>158.100000</td>\n      <td>153.033333</td>\n      <td>158.766667</td>\n      <td>160.533333</td>\n      <td>168.833333</td>\n      <td>167.066667</td>\n      <td>175.433333</td>\n      <td>175.166667</td>\n      <td>174.433333</td>\n    </tr>\n  </tbody>\n</table>\n<p>869 rows × 62 columns</p>\n</div>"
     },
     "execution_count": 4,
     "metadata": {},
     "output_type": "execute_result"
    }
   ],
   "source": [
    "df_quarterly"
   ],
   "metadata": {
    "collapsed": false,
    "ExecuteTime": {
     "end_time": "2024-09-25T02:55:40.117355Z",
     "start_time": "2024-09-25T02:55:40.076940Z"
    }
   },
   "id": "9eceb3d8e4947a00",
   "execution_count": 4
  },
  {
   "cell_type": "markdown",
   "source": [],
   "metadata": {
    "collapsed": false
   },
   "id": "9e991e9981d1401f"
  },
  {
   "cell_type": "code",
   "outputs": [],
   "source": [
    "columns_to_drop = df_quarterly.columns[3:22]\n",
    "\n",
    "df_quarterly.drop(columns=columns_to_drop, inplace=True)\n"
   ],
   "metadata": {
    "collapsed": false,
    "ExecuteTime": {
     "end_time": "2024-09-25T02:55:40.132805Z",
     "start_time": "2024-09-25T02:55:40.119610Z"
    }
   },
   "id": "1ecabcac33350d73",
   "execution_count": 5
  },
  {
   "cell_type": "code",
   "outputs": [
    {
     "data": {
      "text/plain": "                                             COMM_NAME   COMM_CODE    COMM_WT  \\\n0                                      All commodities  1000000000  100.00000   \n1                                                Wheat  1101010102    1.02823   \n2                                                 Ragi  1101010107    0.00738   \n3                                           a2. PULSES  1101010200    0.63860   \n4                                                 Gram  1101010201    0.26377   \n..                                                 ...         ...        ...   \n864                              Gold & gold ornaments  1322010001    0.96561   \n865  Stringed musical instruments (incl. Santoor, G...  1322020001    0.00124   \n866                     c. Manufacture of sports goods  1322030000    0.01238   \n867               Sports goods of rubber (incl. balls)  1322030001    0.00367   \n868                                      IV FOOD INDEX  2000000000        NaN   \n\n        Q1_2013     Q2_2013     Q3_2013     Q4_2013     Q1_2014     Q2_2014  \\\n0    108.333333  109.100000  112.800000  114.100000  113.833333  114.700000   \n1    122.666667  120.300000  123.333333  127.300000  128.766667  121.600000   \n2    167.900000  172.133333  172.866667  166.066667  159.066667  160.000000   \n3    117.133333  116.533333  113.800000  115.800000  113.533333  116.733333   \n4    125.200000  116.466667  109.066667  109.033333  102.933333  101.833333   \n..          ...         ...         ...         ...         ...         ...   \n864   93.200000   89.366667   93.766667   95.533333   99.066667  102.100000   \n865  103.000000  117.033333  116.066667  119.700000  128.233333  126.366667   \n866  107.100000  104.533333  107.333333  106.866667  107.766667  113.333333   \n867  108.200000  103.733333  104.133333  104.633333  103.800000  111.066667   \n868  111.766667  115.733333  122.000000  124.833333  119.866667  123.233333   \n\n        Q3_2014  ...     Q3_2020     Q4_2020     Q1_2021     Q2_2021  \\\n0    116.766667  ...  121.966667  124.700000  128.166667  132.866667   \n1    122.066667  ...  153.833333  147.533333  149.666667  156.400000   \n2    162.100000  ...  229.900000  227.466667  228.333333  233.566667   \n3    119.766667  ...  160.766667  170.300000  168.833333  177.300000   \n4     99.466667  ...  147.966667  162.566667  157.166667  168.700000   \n..          ...  ...         ...         ...         ...         ...   \n864  101.233333  ...  136.066667  134.566667  133.766667  135.933333   \n865  136.900000  ...  167.366667  166.966667  185.700000  197.533333   \n866  113.233333  ...  131.000000  131.866667  134.200000  136.466667   \n867  110.533333  ...  115.666667  116.233333  118.866667  120.633333   \n868  129.766667  ...  154.933333  158.100000  153.033333  158.766667   \n\n        Q3_2021     Q4_2021     Q1_2022     Q2_2022     Q3_2022     Q4_2022  \n0    136.200000  142.566667  146.000000  154.233333  153.033333  151.966667  \n1    154.433333  162.133333  167.366667  173.066667  178.666667  191.966667  \n2    230.333333  228.666667  234.166667  230.133333  211.000000  209.633333  \n3    175.333333  176.966667  174.200000  173.600000  177.400000  178.533333  \n4    168.400000  168.566667  164.900000  162.700000  164.066667  162.033333  \n..          ...         ...         ...         ...         ...         ...  \n864  133.566667  135.833333  140.866667  142.833333  145.800000  148.233333  \n865  191.966667  192.933333  186.933333  182.200000  188.666667  190.366667  \n866  138.533333  141.900000  144.666667  147.300000  150.033333  151.866667  \n867  125.633333  127.333333  128.600000  132.166667  132.366667  134.100000  \n868  160.533333  168.833333  167.066667  175.433333  175.166667  174.433333  \n\n[869 rows x 43 columns]",
      "text/html": "<div>\n<style scoped>\n    .dataframe tbody tr th:only-of-type {\n        vertical-align: middle;\n    }\n\n    .dataframe tbody tr th {\n        vertical-align: top;\n    }\n\n    .dataframe thead th {\n        text-align: right;\n    }\n</style>\n<table border=\"1\" class=\"dataframe\">\n  <thead>\n    <tr style=\"text-align: right;\">\n      <th></th>\n      <th>COMM_NAME</th>\n      <th>COMM_CODE</th>\n      <th>COMM_WT</th>\n      <th>Q1_2013</th>\n      <th>Q2_2013</th>\n      <th>Q3_2013</th>\n      <th>Q4_2013</th>\n      <th>Q1_2014</th>\n      <th>Q2_2014</th>\n      <th>Q3_2014</th>\n      <th>...</th>\n      <th>Q3_2020</th>\n      <th>Q4_2020</th>\n      <th>Q1_2021</th>\n      <th>Q2_2021</th>\n      <th>Q3_2021</th>\n      <th>Q4_2021</th>\n      <th>Q1_2022</th>\n      <th>Q2_2022</th>\n      <th>Q3_2022</th>\n      <th>Q4_2022</th>\n    </tr>\n  </thead>\n  <tbody>\n    <tr>\n      <th>0</th>\n      <td>All commodities</td>\n      <td>1000000000</td>\n      <td>100.00000</td>\n      <td>108.333333</td>\n      <td>109.100000</td>\n      <td>112.800000</td>\n      <td>114.100000</td>\n      <td>113.833333</td>\n      <td>114.700000</td>\n      <td>116.766667</td>\n      <td>...</td>\n      <td>121.966667</td>\n      <td>124.700000</td>\n      <td>128.166667</td>\n      <td>132.866667</td>\n      <td>136.200000</td>\n      <td>142.566667</td>\n      <td>146.000000</td>\n      <td>154.233333</td>\n      <td>153.033333</td>\n      <td>151.966667</td>\n    </tr>\n    <tr>\n      <th>1</th>\n      <td>Wheat</td>\n      <td>1101010102</td>\n      <td>1.02823</td>\n      <td>122.666667</td>\n      <td>120.300000</td>\n      <td>123.333333</td>\n      <td>127.300000</td>\n      <td>128.766667</td>\n      <td>121.600000</td>\n      <td>122.066667</td>\n      <td>...</td>\n      <td>153.833333</td>\n      <td>147.533333</td>\n      <td>149.666667</td>\n      <td>156.400000</td>\n      <td>154.433333</td>\n      <td>162.133333</td>\n      <td>167.366667</td>\n      <td>173.066667</td>\n      <td>178.666667</td>\n      <td>191.966667</td>\n    </tr>\n    <tr>\n      <th>2</th>\n      <td>Ragi</td>\n      <td>1101010107</td>\n      <td>0.00738</td>\n      <td>167.900000</td>\n      <td>172.133333</td>\n      <td>172.866667</td>\n      <td>166.066667</td>\n      <td>159.066667</td>\n      <td>160.000000</td>\n      <td>162.100000</td>\n      <td>...</td>\n      <td>229.900000</td>\n      <td>227.466667</td>\n      <td>228.333333</td>\n      <td>233.566667</td>\n      <td>230.333333</td>\n      <td>228.666667</td>\n      <td>234.166667</td>\n      <td>230.133333</td>\n      <td>211.000000</td>\n      <td>209.633333</td>\n    </tr>\n    <tr>\n      <th>3</th>\n      <td>a2. PULSES</td>\n      <td>1101010200</td>\n      <td>0.63860</td>\n      <td>117.133333</td>\n      <td>116.533333</td>\n      <td>113.800000</td>\n      <td>115.800000</td>\n      <td>113.533333</td>\n      <td>116.733333</td>\n      <td>119.766667</td>\n      <td>...</td>\n      <td>160.766667</td>\n      <td>170.300000</td>\n      <td>168.833333</td>\n      <td>177.300000</td>\n      <td>175.333333</td>\n      <td>176.966667</td>\n      <td>174.200000</td>\n      <td>173.600000</td>\n      <td>177.400000</td>\n      <td>178.533333</td>\n    </tr>\n    <tr>\n      <th>4</th>\n      <td>Gram</td>\n      <td>1101010201</td>\n      <td>0.26377</td>\n      <td>125.200000</td>\n      <td>116.466667</td>\n      <td>109.066667</td>\n      <td>109.033333</td>\n      <td>102.933333</td>\n      <td>101.833333</td>\n      <td>99.466667</td>\n      <td>...</td>\n      <td>147.966667</td>\n      <td>162.566667</td>\n      <td>157.166667</td>\n      <td>168.700000</td>\n      <td>168.400000</td>\n      <td>168.566667</td>\n      <td>164.900000</td>\n      <td>162.700000</td>\n      <td>164.066667</td>\n      <td>162.033333</td>\n    </tr>\n    <tr>\n      <th>...</th>\n      <td>...</td>\n      <td>...</td>\n      <td>...</td>\n      <td>...</td>\n      <td>...</td>\n      <td>...</td>\n      <td>...</td>\n      <td>...</td>\n      <td>...</td>\n      <td>...</td>\n      <td>...</td>\n      <td>...</td>\n      <td>...</td>\n      <td>...</td>\n      <td>...</td>\n      <td>...</td>\n      <td>...</td>\n      <td>...</td>\n      <td>...</td>\n      <td>...</td>\n      <td>...</td>\n    </tr>\n    <tr>\n      <th>864</th>\n      <td>Gold &amp; gold ornaments</td>\n      <td>1322010001</td>\n      <td>0.96561</td>\n      <td>93.200000</td>\n      <td>89.366667</td>\n      <td>93.766667</td>\n      <td>95.533333</td>\n      <td>99.066667</td>\n      <td>102.100000</td>\n      <td>101.233333</td>\n      <td>...</td>\n      <td>136.066667</td>\n      <td>134.566667</td>\n      <td>133.766667</td>\n      <td>135.933333</td>\n      <td>133.566667</td>\n      <td>135.833333</td>\n      <td>140.866667</td>\n      <td>142.833333</td>\n      <td>145.800000</td>\n      <td>148.233333</td>\n    </tr>\n    <tr>\n      <th>865</th>\n      <td>Stringed musical instruments (incl. Santoor, G...</td>\n      <td>1322020001</td>\n      <td>0.00124</td>\n      <td>103.000000</td>\n      <td>117.033333</td>\n      <td>116.066667</td>\n      <td>119.700000</td>\n      <td>128.233333</td>\n      <td>126.366667</td>\n      <td>136.900000</td>\n      <td>...</td>\n      <td>167.366667</td>\n      <td>166.966667</td>\n      <td>185.700000</td>\n      <td>197.533333</td>\n      <td>191.966667</td>\n      <td>192.933333</td>\n      <td>186.933333</td>\n      <td>182.200000</td>\n      <td>188.666667</td>\n      <td>190.366667</td>\n    </tr>\n    <tr>\n      <th>866</th>\n      <td>c. Manufacture of sports goods</td>\n      <td>1322030000</td>\n      <td>0.01238</td>\n      <td>107.100000</td>\n      <td>104.533333</td>\n      <td>107.333333</td>\n      <td>106.866667</td>\n      <td>107.766667</td>\n      <td>113.333333</td>\n      <td>113.233333</td>\n      <td>...</td>\n      <td>131.000000</td>\n      <td>131.866667</td>\n      <td>134.200000</td>\n      <td>136.466667</td>\n      <td>138.533333</td>\n      <td>141.900000</td>\n      <td>144.666667</td>\n      <td>147.300000</td>\n      <td>150.033333</td>\n      <td>151.866667</td>\n    </tr>\n    <tr>\n      <th>867</th>\n      <td>Sports goods of rubber (incl. balls)</td>\n      <td>1322030001</td>\n      <td>0.00367</td>\n      <td>108.200000</td>\n      <td>103.733333</td>\n      <td>104.133333</td>\n      <td>104.633333</td>\n      <td>103.800000</td>\n      <td>111.066667</td>\n      <td>110.533333</td>\n      <td>...</td>\n      <td>115.666667</td>\n      <td>116.233333</td>\n      <td>118.866667</td>\n      <td>120.633333</td>\n      <td>125.633333</td>\n      <td>127.333333</td>\n      <td>128.600000</td>\n      <td>132.166667</td>\n      <td>132.366667</td>\n      <td>134.100000</td>\n    </tr>\n    <tr>\n      <th>868</th>\n      <td>IV FOOD INDEX</td>\n      <td>2000000000</td>\n      <td>NaN</td>\n      <td>111.766667</td>\n      <td>115.733333</td>\n      <td>122.000000</td>\n      <td>124.833333</td>\n      <td>119.866667</td>\n      <td>123.233333</td>\n      <td>129.766667</td>\n      <td>...</td>\n      <td>154.933333</td>\n      <td>158.100000</td>\n      <td>153.033333</td>\n      <td>158.766667</td>\n      <td>160.533333</td>\n      <td>168.833333</td>\n      <td>167.066667</td>\n      <td>175.433333</td>\n      <td>175.166667</td>\n      <td>174.433333</td>\n    </tr>\n  </tbody>\n</table>\n<p>869 rows × 43 columns</p>\n</div>"
     },
     "execution_count": 6,
     "metadata": {},
     "output_type": "execute_result"
    }
   ],
   "source": [
    "df_quarterly"
   ],
   "metadata": {
    "collapsed": false,
    "ExecuteTime": {
     "end_time": "2024-09-25T02:55:40.163927Z",
     "start_time": "2024-09-25T02:55:40.135080Z"
    }
   },
   "id": "a02b916ff677624c",
   "execution_count": 6
  },
  {
   "cell_type": "code",
   "outputs": [],
   "source": [
    "\n",
    "indices_to_drop = list(df_quarterly.index[0:1]) + list(df_quarterly.index[10:])\n",
    "\n",
    "\n",
    "df_quarterly.drop(index=indices_to_drop, inplace=True)\n"
   ],
   "metadata": {
    "collapsed": false,
    "ExecuteTime": {
     "end_time": "2024-09-25T02:55:40.178922Z",
     "start_time": "2024-09-25T02:55:40.166175Z"
    }
   },
   "id": "a923cda359f78ab9",
   "execution_count": 7
  },
  {
   "cell_type": "code",
   "outputs": [
    {
     "data": {
      "text/plain": "        COMM_NAME   COMM_CODE  COMM_WT     Q1_2013     Q2_2013     Q3_2013  \\\n1           Wheat  1101010102  1.02823  122.666667  120.300000  123.333333   \n2            Ragi  1101010107  0.00738  167.900000  172.133333  172.866667   \n3      a2. PULSES  1101010200  0.63860  117.133333  116.533333  113.800000   \n4            Gram  1101010201  0.26377  125.200000  116.466667  109.066667   \n5    Peas/Chawali  1101010206  0.02444  118.200000  143.000000  152.066667   \n6  b1. VEGETABLES  1101020100  1.87448  115.733333  142.766667  193.666667   \n7          Potato  1101020101  0.27737  132.066667  164.766667  171.433333   \n8    Sweet Potato  1101020102  0.02051   77.800000   77.300000   90.766667   \n9  Ginger (Fresh)  1101020105  0.02124  164.766667  291.366667  317.866667   \n\n      Q4_2013     Q1_2014     Q2_2014     Q3_2014  ...     Q3_2020  \\\n1  127.300000  128.766667  121.600000  122.066667  ...  153.833333   \n2  166.066667  159.066667  160.000000  162.100000  ...  229.900000   \n3  115.800000  113.533333  116.733333  119.766667  ...  160.766667   \n4  109.033333  102.933333  101.833333   99.466667  ...  147.966667   \n5  146.366667  108.633333  135.100000  146.433333  ...  202.500000   \n6  199.900000  117.866667  136.200000  199.666667  ...  228.133333   \n7  217.200000  152.733333  220.466667  288.833333  ...  330.933333   \n8  151.833333   98.833333   95.266667  167.766667  ...   68.100000   \n9  231.300000  280.333333  355.800000  304.733333  ...  246.800000   \n\n      Q4_2020     Q1_2021     Q2_2021     Q3_2021     Q4_2021     Q1_2022  \\\n1  147.533333  149.666667  156.400000  154.433333  162.133333  167.366667   \n2  227.466667  228.333333  233.566667  230.333333  228.666667  234.166667   \n3  170.300000  168.833333  177.300000  175.333333  176.966667  174.200000   \n4  162.566667  157.166667  168.700000  168.400000  168.566667  164.900000   \n5  210.266667  180.066667  217.733333  216.866667  215.300000  191.466667   \n6  261.266667  162.666667  153.300000  185.000000  270.166667  209.566667   \n7  421.833333  164.000000  174.466667  193.533333  222.900000  174.666667   \n8   74.100000   69.366667   77.433333   77.900000   86.566667   88.533333   \n9  163.066667  116.766667  131.233333  159.166667  147.833333  115.800000   \n\n      Q2_2022     Q3_2022     Q4_2022  \n1  173.066667  178.666667  191.966667  \n2  230.133333  211.000000  209.633333  \n3  173.600000  177.400000  178.533333  \n4  162.700000  164.066667  162.033333  \n5  217.900000  228.033333  216.400000  \n6  223.566667  234.233333  230.466667  \n7  228.533333  289.233333  279.233333  \n8  106.666667  106.900000   96.500000  \n9  134.933333  161.800000  172.200000  \n\n[9 rows x 43 columns]",
      "text/html": "<div>\n<style scoped>\n    .dataframe tbody tr th:only-of-type {\n        vertical-align: middle;\n    }\n\n    .dataframe tbody tr th {\n        vertical-align: top;\n    }\n\n    .dataframe thead th {\n        text-align: right;\n    }\n</style>\n<table border=\"1\" class=\"dataframe\">\n  <thead>\n    <tr style=\"text-align: right;\">\n      <th></th>\n      <th>COMM_NAME</th>\n      <th>COMM_CODE</th>\n      <th>COMM_WT</th>\n      <th>Q1_2013</th>\n      <th>Q2_2013</th>\n      <th>Q3_2013</th>\n      <th>Q4_2013</th>\n      <th>Q1_2014</th>\n      <th>Q2_2014</th>\n      <th>Q3_2014</th>\n      <th>...</th>\n      <th>Q3_2020</th>\n      <th>Q4_2020</th>\n      <th>Q1_2021</th>\n      <th>Q2_2021</th>\n      <th>Q3_2021</th>\n      <th>Q4_2021</th>\n      <th>Q1_2022</th>\n      <th>Q2_2022</th>\n      <th>Q3_2022</th>\n      <th>Q4_2022</th>\n    </tr>\n  </thead>\n  <tbody>\n    <tr>\n      <th>1</th>\n      <td>Wheat</td>\n      <td>1101010102</td>\n      <td>1.02823</td>\n      <td>122.666667</td>\n      <td>120.300000</td>\n      <td>123.333333</td>\n      <td>127.300000</td>\n      <td>128.766667</td>\n      <td>121.600000</td>\n      <td>122.066667</td>\n      <td>...</td>\n      <td>153.833333</td>\n      <td>147.533333</td>\n      <td>149.666667</td>\n      <td>156.400000</td>\n      <td>154.433333</td>\n      <td>162.133333</td>\n      <td>167.366667</td>\n      <td>173.066667</td>\n      <td>178.666667</td>\n      <td>191.966667</td>\n    </tr>\n    <tr>\n      <th>2</th>\n      <td>Ragi</td>\n      <td>1101010107</td>\n      <td>0.00738</td>\n      <td>167.900000</td>\n      <td>172.133333</td>\n      <td>172.866667</td>\n      <td>166.066667</td>\n      <td>159.066667</td>\n      <td>160.000000</td>\n      <td>162.100000</td>\n      <td>...</td>\n      <td>229.900000</td>\n      <td>227.466667</td>\n      <td>228.333333</td>\n      <td>233.566667</td>\n      <td>230.333333</td>\n      <td>228.666667</td>\n      <td>234.166667</td>\n      <td>230.133333</td>\n      <td>211.000000</td>\n      <td>209.633333</td>\n    </tr>\n    <tr>\n      <th>3</th>\n      <td>a2. PULSES</td>\n      <td>1101010200</td>\n      <td>0.63860</td>\n      <td>117.133333</td>\n      <td>116.533333</td>\n      <td>113.800000</td>\n      <td>115.800000</td>\n      <td>113.533333</td>\n      <td>116.733333</td>\n      <td>119.766667</td>\n      <td>...</td>\n      <td>160.766667</td>\n      <td>170.300000</td>\n      <td>168.833333</td>\n      <td>177.300000</td>\n      <td>175.333333</td>\n      <td>176.966667</td>\n      <td>174.200000</td>\n      <td>173.600000</td>\n      <td>177.400000</td>\n      <td>178.533333</td>\n    </tr>\n    <tr>\n      <th>4</th>\n      <td>Gram</td>\n      <td>1101010201</td>\n      <td>0.26377</td>\n      <td>125.200000</td>\n      <td>116.466667</td>\n      <td>109.066667</td>\n      <td>109.033333</td>\n      <td>102.933333</td>\n      <td>101.833333</td>\n      <td>99.466667</td>\n      <td>...</td>\n      <td>147.966667</td>\n      <td>162.566667</td>\n      <td>157.166667</td>\n      <td>168.700000</td>\n      <td>168.400000</td>\n      <td>168.566667</td>\n      <td>164.900000</td>\n      <td>162.700000</td>\n      <td>164.066667</td>\n      <td>162.033333</td>\n    </tr>\n    <tr>\n      <th>5</th>\n      <td>Peas/Chawali</td>\n      <td>1101010206</td>\n      <td>0.02444</td>\n      <td>118.200000</td>\n      <td>143.000000</td>\n      <td>152.066667</td>\n      <td>146.366667</td>\n      <td>108.633333</td>\n      <td>135.100000</td>\n      <td>146.433333</td>\n      <td>...</td>\n      <td>202.500000</td>\n      <td>210.266667</td>\n      <td>180.066667</td>\n      <td>217.733333</td>\n      <td>216.866667</td>\n      <td>215.300000</td>\n      <td>191.466667</td>\n      <td>217.900000</td>\n      <td>228.033333</td>\n      <td>216.400000</td>\n    </tr>\n    <tr>\n      <th>6</th>\n      <td>b1. VEGETABLES</td>\n      <td>1101020100</td>\n      <td>1.87448</td>\n      <td>115.733333</td>\n      <td>142.766667</td>\n      <td>193.666667</td>\n      <td>199.900000</td>\n      <td>117.866667</td>\n      <td>136.200000</td>\n      <td>199.666667</td>\n      <td>...</td>\n      <td>228.133333</td>\n      <td>261.266667</td>\n      <td>162.666667</td>\n      <td>153.300000</td>\n      <td>185.000000</td>\n      <td>270.166667</td>\n      <td>209.566667</td>\n      <td>223.566667</td>\n      <td>234.233333</td>\n      <td>230.466667</td>\n    </tr>\n    <tr>\n      <th>7</th>\n      <td>Potato</td>\n      <td>1101020101</td>\n      <td>0.27737</td>\n      <td>132.066667</td>\n      <td>164.766667</td>\n      <td>171.433333</td>\n      <td>217.200000</td>\n      <td>152.733333</td>\n      <td>220.466667</td>\n      <td>288.833333</td>\n      <td>...</td>\n      <td>330.933333</td>\n      <td>421.833333</td>\n      <td>164.000000</td>\n      <td>174.466667</td>\n      <td>193.533333</td>\n      <td>222.900000</td>\n      <td>174.666667</td>\n      <td>228.533333</td>\n      <td>289.233333</td>\n      <td>279.233333</td>\n    </tr>\n    <tr>\n      <th>8</th>\n      <td>Sweet Potato</td>\n      <td>1101020102</td>\n      <td>0.02051</td>\n      <td>77.800000</td>\n      <td>77.300000</td>\n      <td>90.766667</td>\n      <td>151.833333</td>\n      <td>98.833333</td>\n      <td>95.266667</td>\n      <td>167.766667</td>\n      <td>...</td>\n      <td>68.100000</td>\n      <td>74.100000</td>\n      <td>69.366667</td>\n      <td>77.433333</td>\n      <td>77.900000</td>\n      <td>86.566667</td>\n      <td>88.533333</td>\n      <td>106.666667</td>\n      <td>106.900000</td>\n      <td>96.500000</td>\n    </tr>\n    <tr>\n      <th>9</th>\n      <td>Ginger (Fresh)</td>\n      <td>1101020105</td>\n      <td>0.02124</td>\n      <td>164.766667</td>\n      <td>291.366667</td>\n      <td>317.866667</td>\n      <td>231.300000</td>\n      <td>280.333333</td>\n      <td>355.800000</td>\n      <td>304.733333</td>\n      <td>...</td>\n      <td>246.800000</td>\n      <td>163.066667</td>\n      <td>116.766667</td>\n      <td>131.233333</td>\n      <td>159.166667</td>\n      <td>147.833333</td>\n      <td>115.800000</td>\n      <td>134.933333</td>\n      <td>161.800000</td>\n      <td>172.200000</td>\n    </tr>\n  </tbody>\n</table>\n<p>9 rows × 43 columns</p>\n</div>"
     },
     "execution_count": 8,
     "metadata": {},
     "output_type": "execute_result"
    }
   ],
   "source": [
    "df_quarterly"
   ],
   "metadata": {
    "collapsed": false,
    "ExecuteTime": {
     "end_time": "2024-09-25T02:55:40.224903Z",
     "start_time": "2024-09-25T02:55:40.181181Z"
    }
   },
   "id": "26345315e87d8ef8",
   "execution_count": 8
  },
  {
   "cell_type": "code",
   "outputs": [],
   "source": [
    "numeric_cols = df_quarterly.select_dtypes(include=['number']).columns\n",
    "excluded_cols = ['COMM_WT', 'COMM_CODE']\n",
    "selected_cols = [col for col in numeric_cols if col not in excluded_cols]\n",
    "\n",
    "df_numeric = df_quarterly[selected_cols]\n"
   ],
   "metadata": {
    "collapsed": false,
    "ExecuteTime": {
     "end_time": "2024-09-25T02:55:40.240119Z",
     "start_time": "2024-09-25T02:55:40.226090Z"
    }
   },
   "id": "f560702900889e79",
   "execution_count": 9
  },
  {
   "cell_type": "code",
   "outputs": [],
   "source": [
    "# from sklearn.preprocessing import MinMaxScaler\n",
    "# \n",
    "# scaler = MinMaxScaler()\n",
    "# \n",
    "# scaled_data = scaler.fit_transform(df_numeric)\n",
    "# \n",
    "# df_scaled = pd.DataFrame(scaled_data, columns=selected_cols, index=df_quarterly.index)\n",
    "\n",
    "# 3. Separate non-numeric columns to include them in the final DataFrame\n",
    "non_numeric_cols = ['COMM_NAME', 'COMM_WT', 'COMM_CODE']\n",
    "df_non_numeric = df_quarterly[non_numeric_cols]\n",
    "\n",
    "# Concatenate dataframes\n",
    "df_final = pd.concat([df_non_numeric, df_numeric], axis=1)"
   ],
   "metadata": {
    "collapsed": false,
    "ExecuteTime": {
     "end_time": "2024-09-25T02:55:40.255414Z",
     "start_time": "2024-09-25T02:55:40.243473Z"
    }
   },
   "id": "e3c794ea9a1ebaa4",
   "execution_count": 10
  },
  {
   "cell_type": "code",
   "outputs": [],
   "source": [
    "df=df_final.copy()"
   ],
   "metadata": {
    "collapsed": false,
    "ExecuteTime": {
     "end_time": "2024-09-25T02:55:40.271381Z",
     "start_time": "2024-09-25T02:55:40.257658Z"
    }
   },
   "id": "4a2c10089f990de2",
   "execution_count": 11
  },
  {
   "cell_type": "code",
   "outputs": [
    {
     "data": {
      "text/plain": "        COMM_NAME  COMM_WT   COMM_CODE     Q1_2013     Q2_2013     Q3_2013  \\\n1           Wheat  1.02823  1101010102  122.666667  120.300000  123.333333   \n2            Ragi  0.00738  1101010107  167.900000  172.133333  172.866667   \n3      a2. PULSES  0.63860  1101010200  117.133333  116.533333  113.800000   \n4            Gram  0.26377  1101010201  125.200000  116.466667  109.066667   \n5    Peas/Chawali  0.02444  1101010206  118.200000  143.000000  152.066667   \n6  b1. VEGETABLES  1.87448  1101020100  115.733333  142.766667  193.666667   \n7          Potato  0.27737  1101020101  132.066667  164.766667  171.433333   \n8    Sweet Potato  0.02051  1101020102   77.800000   77.300000   90.766667   \n9  Ginger (Fresh)  0.02124  1101020105  164.766667  291.366667  317.866667   \n\n      Q4_2013     Q1_2014     Q2_2014     Q3_2014  ...     Q3_2020  \\\n1  127.300000  128.766667  121.600000  122.066667  ...  153.833333   \n2  166.066667  159.066667  160.000000  162.100000  ...  229.900000   \n3  115.800000  113.533333  116.733333  119.766667  ...  160.766667   \n4  109.033333  102.933333  101.833333   99.466667  ...  147.966667   \n5  146.366667  108.633333  135.100000  146.433333  ...  202.500000   \n6  199.900000  117.866667  136.200000  199.666667  ...  228.133333   \n7  217.200000  152.733333  220.466667  288.833333  ...  330.933333   \n8  151.833333   98.833333   95.266667  167.766667  ...   68.100000   \n9  231.300000  280.333333  355.800000  304.733333  ...  246.800000   \n\n      Q4_2020     Q1_2021     Q2_2021     Q3_2021     Q4_2021     Q1_2022  \\\n1  147.533333  149.666667  156.400000  154.433333  162.133333  167.366667   \n2  227.466667  228.333333  233.566667  230.333333  228.666667  234.166667   \n3  170.300000  168.833333  177.300000  175.333333  176.966667  174.200000   \n4  162.566667  157.166667  168.700000  168.400000  168.566667  164.900000   \n5  210.266667  180.066667  217.733333  216.866667  215.300000  191.466667   \n6  261.266667  162.666667  153.300000  185.000000  270.166667  209.566667   \n7  421.833333  164.000000  174.466667  193.533333  222.900000  174.666667   \n8   74.100000   69.366667   77.433333   77.900000   86.566667   88.533333   \n9  163.066667  116.766667  131.233333  159.166667  147.833333  115.800000   \n\n      Q2_2022     Q3_2022     Q4_2022  \n1  173.066667  178.666667  191.966667  \n2  230.133333  211.000000  209.633333  \n3  173.600000  177.400000  178.533333  \n4  162.700000  164.066667  162.033333  \n5  217.900000  228.033333  216.400000  \n6  223.566667  234.233333  230.466667  \n7  228.533333  289.233333  279.233333  \n8  106.666667  106.900000   96.500000  \n9  134.933333  161.800000  172.200000  \n\n[9 rows x 43 columns]",
      "text/html": "<div>\n<style scoped>\n    .dataframe tbody tr th:only-of-type {\n        vertical-align: middle;\n    }\n\n    .dataframe tbody tr th {\n        vertical-align: top;\n    }\n\n    .dataframe thead th {\n        text-align: right;\n    }\n</style>\n<table border=\"1\" class=\"dataframe\">\n  <thead>\n    <tr style=\"text-align: right;\">\n      <th></th>\n      <th>COMM_NAME</th>\n      <th>COMM_WT</th>\n      <th>COMM_CODE</th>\n      <th>Q1_2013</th>\n      <th>Q2_2013</th>\n      <th>Q3_2013</th>\n      <th>Q4_2013</th>\n      <th>Q1_2014</th>\n      <th>Q2_2014</th>\n      <th>Q3_2014</th>\n      <th>...</th>\n      <th>Q3_2020</th>\n      <th>Q4_2020</th>\n      <th>Q1_2021</th>\n      <th>Q2_2021</th>\n      <th>Q3_2021</th>\n      <th>Q4_2021</th>\n      <th>Q1_2022</th>\n      <th>Q2_2022</th>\n      <th>Q3_2022</th>\n      <th>Q4_2022</th>\n    </tr>\n  </thead>\n  <tbody>\n    <tr>\n      <th>1</th>\n      <td>Wheat</td>\n      <td>1.02823</td>\n      <td>1101010102</td>\n      <td>122.666667</td>\n      <td>120.300000</td>\n      <td>123.333333</td>\n      <td>127.300000</td>\n      <td>128.766667</td>\n      <td>121.600000</td>\n      <td>122.066667</td>\n      <td>...</td>\n      <td>153.833333</td>\n      <td>147.533333</td>\n      <td>149.666667</td>\n      <td>156.400000</td>\n      <td>154.433333</td>\n      <td>162.133333</td>\n      <td>167.366667</td>\n      <td>173.066667</td>\n      <td>178.666667</td>\n      <td>191.966667</td>\n    </tr>\n    <tr>\n      <th>2</th>\n      <td>Ragi</td>\n      <td>0.00738</td>\n      <td>1101010107</td>\n      <td>167.900000</td>\n      <td>172.133333</td>\n      <td>172.866667</td>\n      <td>166.066667</td>\n      <td>159.066667</td>\n      <td>160.000000</td>\n      <td>162.100000</td>\n      <td>...</td>\n      <td>229.900000</td>\n      <td>227.466667</td>\n      <td>228.333333</td>\n      <td>233.566667</td>\n      <td>230.333333</td>\n      <td>228.666667</td>\n      <td>234.166667</td>\n      <td>230.133333</td>\n      <td>211.000000</td>\n      <td>209.633333</td>\n    </tr>\n    <tr>\n      <th>3</th>\n      <td>a2. PULSES</td>\n      <td>0.63860</td>\n      <td>1101010200</td>\n      <td>117.133333</td>\n      <td>116.533333</td>\n      <td>113.800000</td>\n      <td>115.800000</td>\n      <td>113.533333</td>\n      <td>116.733333</td>\n      <td>119.766667</td>\n      <td>...</td>\n      <td>160.766667</td>\n      <td>170.300000</td>\n      <td>168.833333</td>\n      <td>177.300000</td>\n      <td>175.333333</td>\n      <td>176.966667</td>\n      <td>174.200000</td>\n      <td>173.600000</td>\n      <td>177.400000</td>\n      <td>178.533333</td>\n    </tr>\n    <tr>\n      <th>4</th>\n      <td>Gram</td>\n      <td>0.26377</td>\n      <td>1101010201</td>\n      <td>125.200000</td>\n      <td>116.466667</td>\n      <td>109.066667</td>\n      <td>109.033333</td>\n      <td>102.933333</td>\n      <td>101.833333</td>\n      <td>99.466667</td>\n      <td>...</td>\n      <td>147.966667</td>\n      <td>162.566667</td>\n      <td>157.166667</td>\n      <td>168.700000</td>\n      <td>168.400000</td>\n      <td>168.566667</td>\n      <td>164.900000</td>\n      <td>162.700000</td>\n      <td>164.066667</td>\n      <td>162.033333</td>\n    </tr>\n    <tr>\n      <th>5</th>\n      <td>Peas/Chawali</td>\n      <td>0.02444</td>\n      <td>1101010206</td>\n      <td>118.200000</td>\n      <td>143.000000</td>\n      <td>152.066667</td>\n      <td>146.366667</td>\n      <td>108.633333</td>\n      <td>135.100000</td>\n      <td>146.433333</td>\n      <td>...</td>\n      <td>202.500000</td>\n      <td>210.266667</td>\n      <td>180.066667</td>\n      <td>217.733333</td>\n      <td>216.866667</td>\n      <td>215.300000</td>\n      <td>191.466667</td>\n      <td>217.900000</td>\n      <td>228.033333</td>\n      <td>216.400000</td>\n    </tr>\n    <tr>\n      <th>6</th>\n      <td>b1. VEGETABLES</td>\n      <td>1.87448</td>\n      <td>1101020100</td>\n      <td>115.733333</td>\n      <td>142.766667</td>\n      <td>193.666667</td>\n      <td>199.900000</td>\n      <td>117.866667</td>\n      <td>136.200000</td>\n      <td>199.666667</td>\n      <td>...</td>\n      <td>228.133333</td>\n      <td>261.266667</td>\n      <td>162.666667</td>\n      <td>153.300000</td>\n      <td>185.000000</td>\n      <td>270.166667</td>\n      <td>209.566667</td>\n      <td>223.566667</td>\n      <td>234.233333</td>\n      <td>230.466667</td>\n    </tr>\n    <tr>\n      <th>7</th>\n      <td>Potato</td>\n      <td>0.27737</td>\n      <td>1101020101</td>\n      <td>132.066667</td>\n      <td>164.766667</td>\n      <td>171.433333</td>\n      <td>217.200000</td>\n      <td>152.733333</td>\n      <td>220.466667</td>\n      <td>288.833333</td>\n      <td>...</td>\n      <td>330.933333</td>\n      <td>421.833333</td>\n      <td>164.000000</td>\n      <td>174.466667</td>\n      <td>193.533333</td>\n      <td>222.900000</td>\n      <td>174.666667</td>\n      <td>228.533333</td>\n      <td>289.233333</td>\n      <td>279.233333</td>\n    </tr>\n    <tr>\n      <th>8</th>\n      <td>Sweet Potato</td>\n      <td>0.02051</td>\n      <td>1101020102</td>\n      <td>77.800000</td>\n      <td>77.300000</td>\n      <td>90.766667</td>\n      <td>151.833333</td>\n      <td>98.833333</td>\n      <td>95.266667</td>\n      <td>167.766667</td>\n      <td>...</td>\n      <td>68.100000</td>\n      <td>74.100000</td>\n      <td>69.366667</td>\n      <td>77.433333</td>\n      <td>77.900000</td>\n      <td>86.566667</td>\n      <td>88.533333</td>\n      <td>106.666667</td>\n      <td>106.900000</td>\n      <td>96.500000</td>\n    </tr>\n    <tr>\n      <th>9</th>\n      <td>Ginger (Fresh)</td>\n      <td>0.02124</td>\n      <td>1101020105</td>\n      <td>164.766667</td>\n      <td>291.366667</td>\n      <td>317.866667</td>\n      <td>231.300000</td>\n      <td>280.333333</td>\n      <td>355.800000</td>\n      <td>304.733333</td>\n      <td>...</td>\n      <td>246.800000</td>\n      <td>163.066667</td>\n      <td>116.766667</td>\n      <td>131.233333</td>\n      <td>159.166667</td>\n      <td>147.833333</td>\n      <td>115.800000</td>\n      <td>134.933333</td>\n      <td>161.800000</td>\n      <td>172.200000</td>\n    </tr>\n  </tbody>\n</table>\n<p>9 rows × 43 columns</p>\n</div>"
     },
     "execution_count": 12,
     "metadata": {},
     "output_type": "execute_result"
    }
   ],
   "source": [
    "df"
   ],
   "metadata": {
    "collapsed": false,
    "ExecuteTime": {
     "end_time": "2024-09-25T02:55:40.302165Z",
     "start_time": "2024-09-25T02:55:40.273524Z"
    }
   },
   "id": "d6b97852a244d813",
   "execution_count": 12
  },
  {
   "cell_type": "code",
   "outputs": [
    {
     "data": {
      "text/plain": "COMM_NAME    0\nCOMM_WT      0\nCOMM_CODE    0\nQ1_2013      0\nQ2_2013      0\nQ3_2013      0\nQ4_2013      0\nQ1_2014      0\nQ2_2014      0\nQ3_2014      0\nQ4_2014      0\nQ1_2015      0\nQ2_2015      0\nQ3_2015      0\nQ4_2015      0\nQ1_2016      0\nQ2_2016      0\nQ3_2016      0\nQ4_2016      0\nQ1_2017      0\nQ2_2017      0\nQ3_2017      0\nQ4_2017      0\nQ1_2018      0\nQ2_2018      0\nQ3_2018      0\nQ4_2018      0\nQ1_2019      0\nQ2_2019      0\nQ3_2019      0\nQ4_2019      0\nQ1_2020      0\nQ2_2020      0\nQ3_2020      0\nQ4_2020      0\nQ1_2021      0\nQ2_2021      0\nQ3_2021      0\nQ4_2021      0\nQ1_2022      0\nQ2_2022      0\nQ3_2022      0\nQ4_2022      0\ndtype: int64"
     },
     "execution_count": 13,
     "metadata": {},
     "output_type": "execute_result"
    }
   ],
   "source": [
    "df.isna().sum()\n"
   ],
   "metadata": {
    "collapsed": false,
    "ExecuteTime": {
     "end_time": "2024-09-25T02:55:40.317456Z",
     "start_time": "2024-09-25T02:55:40.304362Z"
    }
   },
   "id": "1bb69ad87cedabb",
   "execution_count": 13
  },
  {
   "cell_type": "code",
   "outputs": [],
   "source": [
    "from sklearn.linear_model import LinearRegression\n",
    "from sklearn.model_selection import train_test_split\n",
    "from sklearn.metrics import mean_squared_error, r2_score, mean_absolute_error, mean_squared_log_error"
   ],
   "metadata": {
    "collapsed": false,
    "ExecuteTime": {
     "end_time": "2024-09-25T02:55:41.892955Z",
     "start_time": "2024-09-25T02:55:40.319826Z"
    }
   },
   "id": "ba275ed1835eabe0",
   "execution_count": 14
  },
  {
   "cell_type": "code",
   "outputs": [],
   "source": [
    "df_melted = df.melt(id_vars=['COMM_NAME', 'COMM_CODE', 'COMM_WT'],\n",
    "                               var_name='Quarter',\n",
    "                               value_name='Price')"
   ],
   "metadata": {
    "collapsed": false,
    "ExecuteTime": {
     "end_time": "2024-09-25T02:55:41.923644Z",
     "start_time": "2024-09-25T02:55:41.895237Z"
    }
   },
   "id": "c2a69b14cc6e8b1d",
   "execution_count": 15
  },
  {
   "cell_type": "code",
   "outputs": [
    {
     "data": {
      "text/plain": "          COMM_NAME   COMM_CODE  COMM_WT  Quarter       Price\n0             Wheat  1101010102  1.02823  Q1_2013  122.666667\n1              Ragi  1101010107  0.00738  Q1_2013  167.900000\n2        a2. PULSES  1101010200  0.63860  Q1_2013  117.133333\n3              Gram  1101010201  0.26377  Q1_2013  125.200000\n4      Peas/Chawali  1101010206  0.02444  Q1_2013  118.200000\n..              ...         ...      ...      ...         ...\n355    Peas/Chawali  1101010206  0.02444  Q4_2022  216.400000\n356  b1. VEGETABLES  1101020100  1.87448  Q4_2022  230.466667\n357          Potato  1101020101  0.27737  Q4_2022  279.233333\n358    Sweet Potato  1101020102  0.02051  Q4_2022   96.500000\n359  Ginger (Fresh)  1101020105  0.02124  Q4_2022  172.200000\n\n[360 rows x 5 columns]",
      "text/html": "<div>\n<style scoped>\n    .dataframe tbody tr th:only-of-type {\n        vertical-align: middle;\n    }\n\n    .dataframe tbody tr th {\n        vertical-align: top;\n    }\n\n    .dataframe thead th {\n        text-align: right;\n    }\n</style>\n<table border=\"1\" class=\"dataframe\">\n  <thead>\n    <tr style=\"text-align: right;\">\n      <th></th>\n      <th>COMM_NAME</th>\n      <th>COMM_CODE</th>\n      <th>COMM_WT</th>\n      <th>Quarter</th>\n      <th>Price</th>\n    </tr>\n  </thead>\n  <tbody>\n    <tr>\n      <th>0</th>\n      <td>Wheat</td>\n      <td>1101010102</td>\n      <td>1.02823</td>\n      <td>Q1_2013</td>\n      <td>122.666667</td>\n    </tr>\n    <tr>\n      <th>1</th>\n      <td>Ragi</td>\n      <td>1101010107</td>\n      <td>0.00738</td>\n      <td>Q1_2013</td>\n      <td>167.900000</td>\n    </tr>\n    <tr>\n      <th>2</th>\n      <td>a2. PULSES</td>\n      <td>1101010200</td>\n      <td>0.63860</td>\n      <td>Q1_2013</td>\n      <td>117.133333</td>\n    </tr>\n    <tr>\n      <th>3</th>\n      <td>Gram</td>\n      <td>1101010201</td>\n      <td>0.26377</td>\n      <td>Q1_2013</td>\n      <td>125.200000</td>\n    </tr>\n    <tr>\n      <th>4</th>\n      <td>Peas/Chawali</td>\n      <td>1101010206</td>\n      <td>0.02444</td>\n      <td>Q1_2013</td>\n      <td>118.200000</td>\n    </tr>\n    <tr>\n      <th>...</th>\n      <td>...</td>\n      <td>...</td>\n      <td>...</td>\n      <td>...</td>\n      <td>...</td>\n    </tr>\n    <tr>\n      <th>355</th>\n      <td>Peas/Chawali</td>\n      <td>1101010206</td>\n      <td>0.02444</td>\n      <td>Q4_2022</td>\n      <td>216.400000</td>\n    </tr>\n    <tr>\n      <th>356</th>\n      <td>b1. VEGETABLES</td>\n      <td>1101020100</td>\n      <td>1.87448</td>\n      <td>Q4_2022</td>\n      <td>230.466667</td>\n    </tr>\n    <tr>\n      <th>357</th>\n      <td>Potato</td>\n      <td>1101020101</td>\n      <td>0.27737</td>\n      <td>Q4_2022</td>\n      <td>279.233333</td>\n    </tr>\n    <tr>\n      <th>358</th>\n      <td>Sweet Potato</td>\n      <td>1101020102</td>\n      <td>0.02051</td>\n      <td>Q4_2022</td>\n      <td>96.500000</td>\n    </tr>\n    <tr>\n      <th>359</th>\n      <td>Ginger (Fresh)</td>\n      <td>1101020105</td>\n      <td>0.02124</td>\n      <td>Q4_2022</td>\n      <td>172.200000</td>\n    </tr>\n  </tbody>\n</table>\n<p>360 rows × 5 columns</p>\n</div>"
     },
     "execution_count": 16,
     "metadata": {},
     "output_type": "execute_result"
    }
   ],
   "source": [
    "df_melted"
   ],
   "metadata": {
    "collapsed": false,
    "ExecuteTime": {
     "end_time": "2024-09-25T02:55:41.954152Z",
     "start_time": "2024-09-25T02:55:41.925909Z"
    }
   },
   "id": "d8d94d037f41c64d",
   "execution_count": 16
  },
  {
   "cell_type": "code",
   "outputs": [],
   "source": [
    "def convert_quarter_to_numeric(quarter_str):\n",
    "    quarter, year = quarter_str.split('_')\n",
    "    quarter_num = int(quarter[1:])  # Extract the numerical quarter (Q1 -> 1, Q2 -> 2, etc.)\n",
    "    year_num = int(year)\n",
    "    return year_num + (quarter_num / 10)\n",
    "\n",
    "df_melted['Quarter_numeric'] = df_melted['Quarter'].apply(convert_quarter_to_numeric)"
   ],
   "metadata": {
    "collapsed": false,
    "ExecuteTime": {
     "end_time": "2024-09-25T02:55:41.969357Z",
     "start_time": "2024-09-25T02:55:41.956459Z"
    }
   },
   "id": "f3af89d254f1503d",
   "execution_count": 17
  },
  {
   "cell_type": "code",
   "outputs": [
    {
     "data": {
      "text/plain": "          COMM_NAME   COMM_CODE  COMM_WT  Quarter       Price  Quarter_numeric\n0             Wheat  1101010102  1.02823  Q1_2013  122.666667           2013.1\n1              Ragi  1101010107  0.00738  Q1_2013  167.900000           2013.1\n2        a2. PULSES  1101010200  0.63860  Q1_2013  117.133333           2013.1\n3              Gram  1101010201  0.26377  Q1_2013  125.200000           2013.1\n4      Peas/Chawali  1101010206  0.02444  Q1_2013  118.200000           2013.1\n..              ...         ...      ...      ...         ...              ...\n355    Peas/Chawali  1101010206  0.02444  Q4_2022  216.400000           2022.4\n356  b1. VEGETABLES  1101020100  1.87448  Q4_2022  230.466667           2022.4\n357          Potato  1101020101  0.27737  Q4_2022  279.233333           2022.4\n358    Sweet Potato  1101020102  0.02051  Q4_2022   96.500000           2022.4\n359  Ginger (Fresh)  1101020105  0.02124  Q4_2022  172.200000           2022.4\n\n[360 rows x 6 columns]",
      "text/html": "<div>\n<style scoped>\n    .dataframe tbody tr th:only-of-type {\n        vertical-align: middle;\n    }\n\n    .dataframe tbody tr th {\n        vertical-align: top;\n    }\n\n    .dataframe thead th {\n        text-align: right;\n    }\n</style>\n<table border=\"1\" class=\"dataframe\">\n  <thead>\n    <tr style=\"text-align: right;\">\n      <th></th>\n      <th>COMM_NAME</th>\n      <th>COMM_CODE</th>\n      <th>COMM_WT</th>\n      <th>Quarter</th>\n      <th>Price</th>\n      <th>Quarter_numeric</th>\n    </tr>\n  </thead>\n  <tbody>\n    <tr>\n      <th>0</th>\n      <td>Wheat</td>\n      <td>1101010102</td>\n      <td>1.02823</td>\n      <td>Q1_2013</td>\n      <td>122.666667</td>\n      <td>2013.1</td>\n    </tr>\n    <tr>\n      <th>1</th>\n      <td>Ragi</td>\n      <td>1101010107</td>\n      <td>0.00738</td>\n      <td>Q1_2013</td>\n      <td>167.900000</td>\n      <td>2013.1</td>\n    </tr>\n    <tr>\n      <th>2</th>\n      <td>a2. PULSES</td>\n      <td>1101010200</td>\n      <td>0.63860</td>\n      <td>Q1_2013</td>\n      <td>117.133333</td>\n      <td>2013.1</td>\n    </tr>\n    <tr>\n      <th>3</th>\n      <td>Gram</td>\n      <td>1101010201</td>\n      <td>0.26377</td>\n      <td>Q1_2013</td>\n      <td>125.200000</td>\n      <td>2013.1</td>\n    </tr>\n    <tr>\n      <th>4</th>\n      <td>Peas/Chawali</td>\n      <td>1101010206</td>\n      <td>0.02444</td>\n      <td>Q1_2013</td>\n      <td>118.200000</td>\n      <td>2013.1</td>\n    </tr>\n    <tr>\n      <th>...</th>\n      <td>...</td>\n      <td>...</td>\n      <td>...</td>\n      <td>...</td>\n      <td>...</td>\n      <td>...</td>\n    </tr>\n    <tr>\n      <th>355</th>\n      <td>Peas/Chawali</td>\n      <td>1101010206</td>\n      <td>0.02444</td>\n      <td>Q4_2022</td>\n      <td>216.400000</td>\n      <td>2022.4</td>\n    </tr>\n    <tr>\n      <th>356</th>\n      <td>b1. VEGETABLES</td>\n      <td>1101020100</td>\n      <td>1.87448</td>\n      <td>Q4_2022</td>\n      <td>230.466667</td>\n      <td>2022.4</td>\n    </tr>\n    <tr>\n      <th>357</th>\n      <td>Potato</td>\n      <td>1101020101</td>\n      <td>0.27737</td>\n      <td>Q4_2022</td>\n      <td>279.233333</td>\n      <td>2022.4</td>\n    </tr>\n    <tr>\n      <th>358</th>\n      <td>Sweet Potato</td>\n      <td>1101020102</td>\n      <td>0.02051</td>\n      <td>Q4_2022</td>\n      <td>96.500000</td>\n      <td>2022.4</td>\n    </tr>\n    <tr>\n      <th>359</th>\n      <td>Ginger (Fresh)</td>\n      <td>1101020105</td>\n      <td>0.02124</td>\n      <td>Q4_2022</td>\n      <td>172.200000</td>\n      <td>2022.4</td>\n    </tr>\n  </tbody>\n</table>\n<p>360 rows × 6 columns</p>\n</div>"
     },
     "execution_count": 18,
     "metadata": {},
     "output_type": "execute_result"
    }
   ],
   "source": [
    "df_melted"
   ],
   "metadata": {
    "collapsed": false,
    "ExecuteTime": {
     "end_time": "2024-09-25T02:55:42.000490Z",
     "start_time": "2024-09-25T02:55:41.971632Z"
    }
   },
   "id": "3899a998e1f81e39",
   "execution_count": 18
  },
  {
   "cell_type": "markdown",
   "source": [
    "By linear Regression"
   ],
   "metadata": {
    "collapsed": false
   },
   "id": "84fcad5c4884fb02"
  },
  {
   "cell_type": "code",
   "outputs": [
    {
     "name": "stdout",
     "output_type": "stream",
     "text": [
      "Mean Squared Error (MSE): 2569.634196248998\n",
      "Root Mean Squared Error (RMSE): 50.69155941820095\n",
      "Mean Absolute Error (MAE): 36.33444425371951\n",
      "R^2 Score: 0.1183700754589071\n"
     ]
    }
   ],
   "source": [
    "\n",
    "features = df_melted.drop(columns=['Price','Quarter','COMM_NAME'])\n",
    "target = df_melted['Price']\n",
    "\n",
    "features = pd.get_dummies(features, drop_first=True)\n",
    "\n",
    "\n",
    "X_train, X_test, y_train, y_test = train_test_split(features, target, test_size=0.2, random_state=42)\n",
    "\n",
    "model = LinearRegression()\n",
    "model.fit(X_train, y_train)\n",
    "\n",
    "y_pred = model.predict(X_test)\n",
    "\n",
    "# Calculate predictions\n",
    "y_pred = model.predict(X_test)\n",
    "\n",
    "# Calculate the metrics\n",
    "mse = mean_squared_error(y_test, y_pred)\n",
    "r2 = r2_score(y_test, y_pred)\n",
    "mae = mean_absolute_error(y_test, y_pred)\n",
    "rmse = mse ** 0.5\n",
    "#msle = mean_squared_log_error(y_test, y_pred)\n",
    "\n",
    "# Print the results\n",
    "print(\"Mean Squared Error (MSE):\", mse)\n",
    "print(\"Root Mean Squared Error (RMSE):\", rmse)\n",
    "print(\"Mean Absolute Error (MAE):\", mae)\n",
    "print(\"R^2 Score:\", r2)\n",
    "#print(\"Mean Squared Log Error (MSLE):\", msle)"
   ],
   "metadata": {
    "collapsed": false,
    "ExecuteTime": {
     "end_time": "2024-09-25T02:55:42.031900Z",
     "start_time": "2024-09-25T02:55:42.002726Z"
    }
   },
   "id": "45681a0b158029dc",
   "execution_count": 19
  },
  {
   "cell_type": "code",
   "outputs": [
    {
     "data": {
      "text/plain": "          COMM_NAME   COMM_CODE  COMM_WT  Quarter       Price  Quarter_numeric\n0             Wheat  1101010102  1.02823  Q1_2013  122.666667           2013.1\n1              Ragi  1101010107  0.00738  Q1_2013  167.900000           2013.1\n2        a2. PULSES  1101010200  0.63860  Q1_2013  117.133333           2013.1\n3              Gram  1101010201  0.26377  Q1_2013  125.200000           2013.1\n4      Peas/Chawali  1101010206  0.02444  Q1_2013  118.200000           2013.1\n..              ...         ...      ...      ...         ...              ...\n355    Peas/Chawali  1101010206  0.02444  Q4_2022  216.400000           2022.4\n356  b1. VEGETABLES  1101020100  1.87448  Q4_2022  230.466667           2022.4\n357          Potato  1101020101  0.27737  Q4_2022  279.233333           2022.4\n358    Sweet Potato  1101020102  0.02051  Q4_2022   96.500000           2022.4\n359  Ginger (Fresh)  1101020105  0.02124  Q4_2022  172.200000           2022.4\n\n[360 rows x 6 columns]",
      "text/html": "<div>\n<style scoped>\n    .dataframe tbody tr th:only-of-type {\n        vertical-align: middle;\n    }\n\n    .dataframe tbody tr th {\n        vertical-align: top;\n    }\n\n    .dataframe thead th {\n        text-align: right;\n    }\n</style>\n<table border=\"1\" class=\"dataframe\">\n  <thead>\n    <tr style=\"text-align: right;\">\n      <th></th>\n      <th>COMM_NAME</th>\n      <th>COMM_CODE</th>\n      <th>COMM_WT</th>\n      <th>Quarter</th>\n      <th>Price</th>\n      <th>Quarter_numeric</th>\n    </tr>\n  </thead>\n  <tbody>\n    <tr>\n      <th>0</th>\n      <td>Wheat</td>\n      <td>1101010102</td>\n      <td>1.02823</td>\n      <td>Q1_2013</td>\n      <td>122.666667</td>\n      <td>2013.1</td>\n    </tr>\n    <tr>\n      <th>1</th>\n      <td>Ragi</td>\n      <td>1101010107</td>\n      <td>0.00738</td>\n      <td>Q1_2013</td>\n      <td>167.900000</td>\n      <td>2013.1</td>\n    </tr>\n    <tr>\n      <th>2</th>\n      <td>a2. PULSES</td>\n      <td>1101010200</td>\n      <td>0.63860</td>\n      <td>Q1_2013</td>\n      <td>117.133333</td>\n      <td>2013.1</td>\n    </tr>\n    <tr>\n      <th>3</th>\n      <td>Gram</td>\n      <td>1101010201</td>\n      <td>0.26377</td>\n      <td>Q1_2013</td>\n      <td>125.200000</td>\n      <td>2013.1</td>\n    </tr>\n    <tr>\n      <th>4</th>\n      <td>Peas/Chawali</td>\n      <td>1101010206</td>\n      <td>0.02444</td>\n      <td>Q1_2013</td>\n      <td>118.200000</td>\n      <td>2013.1</td>\n    </tr>\n    <tr>\n      <th>...</th>\n      <td>...</td>\n      <td>...</td>\n      <td>...</td>\n      <td>...</td>\n      <td>...</td>\n      <td>...</td>\n    </tr>\n    <tr>\n      <th>355</th>\n      <td>Peas/Chawali</td>\n      <td>1101010206</td>\n      <td>0.02444</td>\n      <td>Q4_2022</td>\n      <td>216.400000</td>\n      <td>2022.4</td>\n    </tr>\n    <tr>\n      <th>356</th>\n      <td>b1. VEGETABLES</td>\n      <td>1101020100</td>\n      <td>1.87448</td>\n      <td>Q4_2022</td>\n      <td>230.466667</td>\n      <td>2022.4</td>\n    </tr>\n    <tr>\n      <th>357</th>\n      <td>Potato</td>\n      <td>1101020101</td>\n      <td>0.27737</td>\n      <td>Q4_2022</td>\n      <td>279.233333</td>\n      <td>2022.4</td>\n    </tr>\n    <tr>\n      <th>358</th>\n      <td>Sweet Potato</td>\n      <td>1101020102</td>\n      <td>0.02051</td>\n      <td>Q4_2022</td>\n      <td>96.500000</td>\n      <td>2022.4</td>\n    </tr>\n    <tr>\n      <th>359</th>\n      <td>Ginger (Fresh)</td>\n      <td>1101020105</td>\n      <td>0.02124</td>\n      <td>Q4_2022</td>\n      <td>172.200000</td>\n      <td>2022.4</td>\n    </tr>\n  </tbody>\n</table>\n<p>360 rows × 6 columns</p>\n</div>"
     },
     "execution_count": 20,
     "metadata": {},
     "output_type": "execute_result"
    }
   ],
   "source": [
    "df_melted\n"
   ],
   "metadata": {
    "collapsed": false,
    "ExecuteTime": {
     "end_time": "2024-09-25T02:55:42.062522Z",
     "start_time": "2024-09-25T02:55:42.034164Z"
    }
   },
   "id": "967f3462dbb9886c",
   "execution_count": 20
  },
  {
   "cell_type": "markdown",
   "source": [
    "By polynomial Regrerssion\n"
   ],
   "metadata": {
    "collapsed": false
   },
   "id": "381da7846b247b"
  },
  {
   "cell_type": "code",
   "outputs": [
    {
     "name": "stdout",
     "output_type": "stream",
     "text": [
      "Mean Squared Error (MSE): 2526.729687549914\n",
      "Root Mean Squared Error (RMSE): 50.26658619351342\n",
      "Mean Absolute Error (MAE): 34.46697806614512\n",
      "R^2 Score: 0.13309041924249365\n"
     ]
    }
   ],
   "source": [
    "from sklearn.preprocessing import PolynomialFeatures\n",
    "from sklearn.feature_selection import SelectKBest, f_regression\n",
    "\n",
    "features = df_melted.drop(columns=['Price','Quarter','COMM_NAME'])\n",
    "target = df_melted['Price']\n",
    "\n",
    "features = pd.get_dummies(features, drop_first=True)\n",
    "\n",
    "\n",
    "X_train, X_test, y_train, y_test = train_test_split(features, target, test_size=0.2, random_state=42)\n",
    "\n",
    "poly = PolynomialFeatures(degree=2, include_bias=False)\n",
    "X_train_poly = poly.fit_transform(X_train)\n",
    "X_test_poly = poly.transform(X_test)\n",
    "\n",
    "# Fit Polynomial Regression model\n",
    "model = LinearRegression()\n",
    "model.fit(X_train_poly, y_train)\n",
    "\n",
    "# Make predictions\n",
    "y_pred = model.predict(X_test_poly)\n",
    "\n",
    "# Evaluate the model\n",
    "mse = mean_squared_error(y_test, y_pred)\n",
    "r2 = r2_score(y_test, y_pred)\n",
    "mae = mean_absolute_error(y_test, y_pred)\n",
    "rmse = mse ** 0.5\n",
    "#msle = mean_squared_log_error(y_test, y_pred)\n",
    "\n",
    "\n",
    "print(\"Mean Squared Error (MSE):\", mse)\n",
    "print(\"Root Mean Squared Error (RMSE):\", rmse)\n",
    "print(\"Mean Absolute Error (MAE):\", mae)\n",
    "print(\"R^2 Score:\", r2)\n",
    "#print(\"Mean Squared Log Error (MSLE):\", msle)"
   ],
   "metadata": {
    "collapsed": false,
    "ExecuteTime": {
     "end_time": "2024-09-25T02:55:42.139566Z",
     "start_time": "2024-09-25T02:55:42.064725Z"
    }
   },
   "id": "7877da6b5f8d0713",
   "execution_count": 21
  },
  {
   "cell_type": "markdown",
   "source": [
    "Random Forest Regressor"
   ],
   "metadata": {
    "collapsed": false
   },
   "id": "199943c5c1fc57aa"
  },
  {
   "cell_type": "code",
   "outputs": [
    {
     "name": "stdout",
     "output_type": "stream",
     "text": [
      "Fitting 5 folds for each of 324 candidates, totalling 1620 fits\n",
      "Mean Squared Error (MSE): 905.7480905432111\n",
      "Root Mean Squared Error (RMSE): 30.095649030104187\n",
      "Mean Absolute Error (MAE): 17.180611111111133\n",
      "R^2 Score: 0.6892419077063558\n"
     ]
    }
   ],
   "source": [
    "import pandas as pd\n",
    "from sklearn.model_selection import train_test_split,GridSearchCV\n",
    "from sklearn.ensemble import RandomForestRegressor\n",
    "from sklearn.metrics import mean_squared_error, r2_score\n",
    "from sklearn.preprocessing import LabelEncoder\n",
    "\n",
    "features = df_melted.drop(columns=['Price','Quarter','COMM_NAME'])\n",
    "target = df_melted['Price']\n",
    "\n",
    "\n",
    "features = pd.get_dummies(features, drop_first=True)\n",
    "\n",
    "\n",
    "X_train, X_test, y_train, y_test = train_test_split(features, target, test_size=0.2, random_state=42)\n",
    "\n",
    "# Train Random Forest Regressor\n",
    "model = RandomForestRegressor( random_state=42)\n",
    "param_grid = {\n",
    "    'n_estimators': [50, 100, 200],\n",
    "    'max_depth': [None, 10, 20, 30],\n",
    "    'min_samples_split': [2, 5, 10],\n",
    "    'min_samples_leaf': [1, 2, 4],\n",
    "    'max_features': [None, 'sqrt', 'log2']\n",
    "}\n",
    "\n",
    "# Initialize GridSearchCV\n",
    "grid_search = GridSearchCV(estimator=model,\n",
    "                           param_grid=param_grid,\n",
    "                           cv=5,\n",
    "                           n_jobs=-1,\n",
    "                           verbose=2,\n",
    "                           scoring='r2')\n",
    "\n",
    "# Fit GridSearchCV\n",
    "grid_search.fit(X_train, y_train)\n",
    "\n",
    "# Get the best model from GridSearchCV\n",
    "best_model = grid_search.best_estimator_\n",
    "\n",
    "# Make predictions\n",
    "y_pred = best_model.predict(X_test)\n",
    "\n",
    "# Evaluate the model\n",
    "mse = mean_squared_error(y_test, y_pred)\n",
    "r2 = r2_score(y_test, y_pred)\n",
    "mae = mean_absolute_error(y_test, y_pred)\n",
    "rmse = mse ** 0.5\n",
    "#msle = mean_squared_log_error(y_test, y_pred)\n",
    "\n",
    "\n",
    "print(\"Mean Squared Error (MSE):\", mse)\n",
    "print(\"Root Mean Squared Error (RMSE):\", rmse)\n",
    "print(\"Mean Absolute Error (MAE):\", mae)\n",
    "print(\"R^2 Score:\", r2)\n",
    "#print(\"Mean Squared Log Error (MSLE):\", msle)\n"
   ],
   "metadata": {
    "collapsed": false,
    "ExecuteTime": {
     "end_time": "2024-09-25T02:56:56.635452Z",
     "start_time": "2024-09-25T02:55:42.141821Z"
    }
   },
   "id": "3406d4bc895bfc43",
   "execution_count": 22
  },
  {
   "cell_type": "code",
   "outputs": [
    {
     "name": "stdout",
     "output_type": "stream",
     "text": [
      "Predicted Price: 168.8539999999999\n"
     ]
    }
   ],
   "source": [
    "def predict_price(comm_code, weight, quarter_numeric):\n",
    "    # Create a DataFrame for the input data\n",
    "    input_data = pd.DataFrame({\n",
    "        'COMM_CODE': [comm_code],\n",
    "        'wt': [weight],\n",
    "        'Quarter_numeric': [quarter_numeric]\n",
    "    })\n",
    "    \n",
    "    # Preprocess the input data (one-hot encoding)\n",
    "    input_data = pd.get_dummies(input_data, drop_first=True)\n",
    "    \n",
    "    # Align input data with training data\n",
    "    input_data = input_data.reindex(columns=features.columns, fill_value=0)\n",
    "\n",
    "    # Make prediction\n",
    "    predicted_price = best_model.predict(input_data)\n",
    "    \n",
    "    return predicted_price[0]\n",
    "\n",
    "# Example usage of the prediction function\n",
    "predicted_price_value = predict_price(comm_code=1101010102, weight=0.500, quarter_numeric=2013.1)\n",
    "print(\"Predicted Price:\", predicted_price_value)"
   ],
   "metadata": {
    "collapsed": false,
    "ExecuteTime": {
     "end_time": "2024-09-25T02:56:56.666586Z",
     "start_time": "2024-09-25T02:56:56.637630Z"
    }
   },
   "id": "a5504c2deb7359ba",
   "execution_count": 23
  },
  {
   "cell_type": "code",
   "outputs": [],
   "source": [
    "import pickle\n",
    "with open('trained_model.pkl', 'wb') as f:\n",
    "    pickle.dump(best_model, f)\n"
   ],
   "metadata": {
    "collapsed": false,
    "ExecuteTime": {
     "end_time": "2024-09-25T02:57:16.427524Z",
     "start_time": "2024-09-25T02:57:16.417570Z"
    }
   },
   "id": "b29fa44342ab49d4",
   "execution_count": 26
  },
  {
   "cell_type": "code",
   "outputs": [
    {
     "data": {
      "text/plain": "          COMM_NAME   COMM_CODE  COMM_WT  Quarter       Price  Quarter_numeric\n0             Wheat  1101010102  1.02823  Q1_2013  122.666667           2013.1\n1              Ragi  1101010107  0.00738  Q1_2013  167.900000           2013.1\n2        a2. PULSES  1101010200  0.63860  Q1_2013  117.133333           2013.1\n3              Gram  1101010201  0.26377  Q1_2013  125.200000           2013.1\n4      Peas/Chawali  1101010206  0.02444  Q1_2013  118.200000           2013.1\n..              ...         ...      ...      ...         ...              ...\n355    Peas/Chawali  1101010206  0.02444  Q4_2022  216.400000           2022.4\n356  b1. VEGETABLES  1101020100  1.87448  Q4_2022  230.466667           2022.4\n357          Potato  1101020101  0.27737  Q4_2022  279.233333           2022.4\n358    Sweet Potato  1101020102  0.02051  Q4_2022   96.500000           2022.4\n359  Ginger (Fresh)  1101020105  0.02124  Q4_2022  172.200000           2022.4\n\n[360 rows x 6 columns]",
      "text/html": "<div>\n<style scoped>\n    .dataframe tbody tr th:only-of-type {\n        vertical-align: middle;\n    }\n\n    .dataframe tbody tr th {\n        vertical-align: top;\n    }\n\n    .dataframe thead th {\n        text-align: right;\n    }\n</style>\n<table border=\"1\" class=\"dataframe\">\n  <thead>\n    <tr style=\"text-align: right;\">\n      <th></th>\n      <th>COMM_NAME</th>\n      <th>COMM_CODE</th>\n      <th>COMM_WT</th>\n      <th>Quarter</th>\n      <th>Price</th>\n      <th>Quarter_numeric</th>\n    </tr>\n  </thead>\n  <tbody>\n    <tr>\n      <th>0</th>\n      <td>Wheat</td>\n      <td>1101010102</td>\n      <td>1.02823</td>\n      <td>Q1_2013</td>\n      <td>122.666667</td>\n      <td>2013.1</td>\n    </tr>\n    <tr>\n      <th>1</th>\n      <td>Ragi</td>\n      <td>1101010107</td>\n      <td>0.00738</td>\n      <td>Q1_2013</td>\n      <td>167.900000</td>\n      <td>2013.1</td>\n    </tr>\n    <tr>\n      <th>2</th>\n      <td>a2. PULSES</td>\n      <td>1101010200</td>\n      <td>0.63860</td>\n      <td>Q1_2013</td>\n      <td>117.133333</td>\n      <td>2013.1</td>\n    </tr>\n    <tr>\n      <th>3</th>\n      <td>Gram</td>\n      <td>1101010201</td>\n      <td>0.26377</td>\n      <td>Q1_2013</td>\n      <td>125.200000</td>\n      <td>2013.1</td>\n    </tr>\n    <tr>\n      <th>4</th>\n      <td>Peas/Chawali</td>\n      <td>1101010206</td>\n      <td>0.02444</td>\n      <td>Q1_2013</td>\n      <td>118.200000</td>\n      <td>2013.1</td>\n    </tr>\n    <tr>\n      <th>...</th>\n      <td>...</td>\n      <td>...</td>\n      <td>...</td>\n      <td>...</td>\n      <td>...</td>\n      <td>...</td>\n    </tr>\n    <tr>\n      <th>355</th>\n      <td>Peas/Chawali</td>\n      <td>1101010206</td>\n      <td>0.02444</td>\n      <td>Q4_2022</td>\n      <td>216.400000</td>\n      <td>2022.4</td>\n    </tr>\n    <tr>\n      <th>356</th>\n      <td>b1. VEGETABLES</td>\n      <td>1101020100</td>\n      <td>1.87448</td>\n      <td>Q4_2022</td>\n      <td>230.466667</td>\n      <td>2022.4</td>\n    </tr>\n    <tr>\n      <th>357</th>\n      <td>Potato</td>\n      <td>1101020101</td>\n      <td>0.27737</td>\n      <td>Q4_2022</td>\n      <td>279.233333</td>\n      <td>2022.4</td>\n    </tr>\n    <tr>\n      <th>358</th>\n      <td>Sweet Potato</td>\n      <td>1101020102</td>\n      <td>0.02051</td>\n      <td>Q4_2022</td>\n      <td>96.500000</td>\n      <td>2022.4</td>\n    </tr>\n    <tr>\n      <th>359</th>\n      <td>Ginger (Fresh)</td>\n      <td>1101020105</td>\n      <td>0.02124</td>\n      <td>Q4_2022</td>\n      <td>172.200000</td>\n      <td>2022.4</td>\n    </tr>\n  </tbody>\n</table>\n<p>360 rows × 6 columns</p>\n</div>"
     },
     "execution_count": 27,
     "metadata": {},
     "output_type": "execute_result"
    }
   ],
   "source": [
    "df_melted"
   ],
   "metadata": {
    "collapsed": false,
    "ExecuteTime": {
     "end_time": "2024-09-25T02:57:18.658146Z",
     "start_time": "2024-09-25T02:57:18.637274Z"
    }
   },
   "id": "60a2cb0ae99d0827",
   "execution_count": 27
  },
  {
   "cell_type": "code",
   "outputs": [],
   "source": [],
   "metadata": {
    "collapsed": false,
    "ExecuteTime": {
     "end_time": "2024-09-25T02:56:56.712362Z",
     "start_time": "2024-09-25T02:56:56.698349Z"
    }
   },
   "id": "57ae68b147d0edec",
   "execution_count": 25
  }
 ],
 "metadata": {
  "kernelspec": {
   "display_name": "Python 3",
   "language": "python",
   "name": "python3"
  },
  "language_info": {
   "codemirror_mode": {
    "name": "ipython",
    "version": 2
   },
   "file_extension": ".py",
   "mimetype": "text/x-python",
   "name": "python",
   "nbconvert_exporter": "python",
   "pygments_lexer": "ipython2",
   "version": "2.7.6"
  }
 },
 "nbformat": 4,
 "nbformat_minor": 5
}
